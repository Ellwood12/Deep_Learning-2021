{
 "cells": [
  {
   "cell_type": "markdown",
   "metadata": {},
   "source": [
    "## Homework 2: Wine Quality Prediction Using SGD\n",
    "### Course: CS 474/574: Deep Learning/2021 Fall\n",
    "### Due: 10/01/2021\n",
    "\n",
    "\n",
    "Add your code to the following sections:\n",
    "\n",
    "    ## add your code here\n",
    "    #-----------------------\n",
    "\n",
    "    #---------------------------------\n",
    "    \n",
    "Description: In this homework, you are going to practice cross-validation and implement the stochastic gradient optimization (mini-batch) to solve the wine quality prediction problem. Using the following code as your template. Specific requirements:\n",
    "\n",
    "1. Use all function definitions given in the code (e.g., def SGD(X, Y, lr = 0.001, batch_size = 32, epoch = 100):); and do not change the function names and input arguments. (deduct 5 points for doing this)\n",
    "\n",
    "2. Evaluate (Cross-validation) the model trained using GD (20 points)\n",
    "\n",
    "3. SGD implementation. 40 pts\n",
    "   \n",
    "4. Calculate and print out the MSE and MAE values of SGD for the training and test sets (15 points)\n",
    "5. Plot the loss curve of the SGD. (5 points)\n",
    "6. Plot the mse curves on the training and test sets using different models (w_hist). (20 points)\n",
    "\n",
    "### Common mistakes\n",
    "    \n",
    "1. Call GD and SGD using the whole dataset\n",
    "\n",
    "    -- GD and SGD are used to optimize the model (learn w); and we should call them using the training sets\n",
    "   \n",
    "2. Calculate gradient using the whole training set for SGD\n",
    "    \n",
    "    -- In SGD, update gradient only using mini-batches\n",
    "  \n",
    "3. Calculate the loss of each epoch using the average of all minibatches\n",
    "    \n",
    "    -- should use the w of the last mini-batch and the whole training set to calculate the loss  \n",
    "   \n",
    "4. Mix concepts of loss function and evaulation metrics\n",
    "    -- loss function: for optimization purpose (gradient). We use the sum of square errors in this homework. L = 1/2 * sum(y_hat_i - y_i)^2\n",
    "    \n",
    "    -- evaluation metrics: mse and mae: mse = 1/m * sum(y_hat_i - y_i)^2, mae = 1/m * sum(abs(y_hat_i - y_i))"
   ]
  },
  {
   "cell_type": "markdown",
   "metadata": {},
   "source": [
    "### 1. Load data, implement the model, loss function and GD "
   ]
  },
  {
   "cell_type": "code",
   "execution_count": 17,
   "metadata": {},
   "outputs": [
    {
     "name": "stdout",
     "output_type": "stream",
     "text": [
      "Data shape: X: (4898, 11) Y: (4898,)\n"
     ]
    }
   ],
   "source": [
    "import pandas as pd\n",
    "import numpy as np\n",
    "from matplotlib import pyplot as plt\n",
    "\n",
    "## (1) Data preparation\n",
    "df=pd.read_csv('winequality-white.csv', sep = ';')\n",
    "df\n",
    "X = df.values[:, :11]\n",
    "Y = df.values[:, 11]\n",
    "print('Data shape:', 'X:', X.shape, 'Y:', Y.shape)\n",
    "\n",
    "# data normalization\n",
    "min_vals = np.min(X, axis = 0)\n",
    "max_vals = np.max(X, axis = 0)\n",
    "X1 = (X-min_vals)/(max_vals-min_vals)\n",
    "\n",
    "##(2) Assume a linear mode that y = w0*1 + w_1*x_1 +w_2*x_2+...+ w_11*x_11\n",
    "def predict(X, w):\n",
    "    '''\n",
    "    X: input feature vectors:m*n\n",
    "    w: weights\n",
    "    \n",
    "    return Y_hat\n",
    "    '''\n",
    "    # Prediction\n",
    "    Y_hat = np.zeros((X.shape[0]))\n",
    "    for idx, x in enumerate(X):          \n",
    "        y_hat = w[0] + np.dot(w[1:].T, np.c_[x]) # linear model\n",
    "        Y_hat[idx] = y_hat    \n",
    "    return Y_hat\n",
    "\n",
    "## (3) Loss function: L = 1/2 * sum(y_hat_i - y_i)^2\n",
    "def loss(w, X, Y):\n",
    "    '''\n",
    "    w: weights\n",
    "    X: input feature vectors\n",
    "    Y: targets\n",
    "    '''\n",
    "    Y_hat = predict(X, w)\n",
    "    loss = 1/2* np.sum(np.square(Y_hat - Y))\n",
    "    \n",
    "    return loss\n",
    "\n",
    "# Optimization 1: Gradient Descent\n",
    "def GD(X, Y, lr = 0.000025, delta = 0.01, max_iter = 100):\n",
    "    '''\n",
    "    X: training data\n",
    "    Y: training target\n",
    "    lr: learning rate\n",
    "    max_iter: the max iterations\n",
    "    '''\n",
    "    \n",
    "    m = len(Y)\n",
    "    b = np.reshape(Y, [Y.shape[0],1])\n",
    "    w = np.random.rand(X.shape[1] + 1, 1)\n",
    "    A = np.c_[np.ones((m, 1)), X]\n",
    "    gradient = A.T.dot(np.dot(A, w)-b)\n",
    "    \n",
    "    loss_hist = np.zeros(max_iter) # history of loss\n",
    "    w_hist = np.zeros((max_iter, w.shape[0])) # history of weight\n",
    "    loss_w = 0\n",
    "    i = 0                  \n",
    "    while(np.linalg.norm(gradient) > delta) and (i < max_iter):\n",
    "        w_hist[i,:] = w.T\n",
    "        loss_w = loss(w, X, Y)\n",
    "        #print(i, 'loss:', loss_w)\n",
    "        loss_hist[i] = loss_w\n",
    "        \n",
    "        w = w - lr*gradient        \n",
    "        gradient = A.T.dot(np.dot(A, w)-b) # update the gradient using new w\n",
    "        i = i + 1\n",
    "        \n",
    "    w_star = w  \n",
    "    return w_star, loss_hist, w_hist\n",
    "\n",
    "#Data shape: X: (4898, 11) Y: (4898,)"
   ]
  },
  {
   "cell_type": "markdown",
   "metadata": {},
   "source": [
    "### 2. Model evaluation using cross-validation (20 points)"
   ]
  },
  {
   "cell_type": "code",
   "execution_count": 18,
   "metadata": {},
   "outputs": [
    {
     "name": "stdout",
     "output_type": "stream",
     "text": [
      "(3428, 11) (1470, 11)\n"
     ]
    }
   ],
   "source": [
    "## 2.1 Split the dataset into training (70%) and test (30%) sets. (5 points)\n",
    "from sklearn.model_selection import train_test_split\n",
    "\n",
    "## add your code here\n",
    "#-----------------------\n",
    "\n",
    "X_train, X_test, y_train, y_test = train_test_split(X1, Y, train_size=0.70, test_size = 0.30)\n",
    "\n",
    "print(X_train.shape, X_test.shape)\n",
    "#---------------------------------\n",
    "#(3428, 11) (1470, 11)"
   ]
  },
  {
   "cell_type": "code",
   "execution_count": 19,
   "metadata": {
    "scrolled": true
   },
   "outputs": [],
   "source": [
    "## 2.2 Model training using the training set and the GD function (5 points)\n",
    "## add your code here\n",
    "#-----------------------\n",
    "\n",
    "w_star, loss_hist, w_hist = GD(X_train, y_train)\n",
    "\n",
    "Y_hat_train = predict(X_train, w_star)\n",
    "Y_hat_test = predict(X_test, w_star)\n",
    "\n",
    "#---------------------------------"
   ]
  },
  {
   "cell_type": "code",
   "execution_count": 20,
   "metadata": {},
   "outputs": [
    {
     "name": "stdout",
     "output_type": "stream",
     "text": [
      "training mse: 0.7600645595746935 and training mae:0.6837403378063927\n",
      "test mse: 0.850296634029973 and test mae:0.7198904002719189\n"
     ]
    }
   ],
   "source": [
    "## 2.3. calculating mse&mae values on the training set and test set, respectively. (10 points)\n",
    "\n",
    "#training error\n",
    "## add your code here\n",
    "#-----------------------\n",
    "\n",
    "m_train = len(y_train)\n",
    "\n",
    "######################\n",
    "# Mean Square Errors #\n",
    "######################\n",
    "\n",
    "#### Function ####\n",
    "\n",
    "def MSE(y_hat, y, m):\n",
    "    MSE_Errors = 0\n",
    "    for i in range(len(y)):\n",
    "        MSE_Errors = MSE_Errors + (np.subtract(y[i],y_hat[i]))**2\n",
    "    mse_train = (1/m)*(MSE_Errors)\n",
    "    return(mse_train)\n",
    "\n",
    "#### Result ####\n",
    "\n",
    "mse_train = MSE(Y_hat_train, y_train, m_train)\n",
    "\n",
    "########################\n",
    "# Mean Absolute Errors #\n",
    "########################\n",
    "\n",
    "#### Function ####\n",
    "\n",
    "def MAE(y_hat, y, m):\n",
    "    MAE_Errors = 0\n",
    "    for i in range(len(y)):\n",
    "        MAE_Errors = MAE_Errors + (np.abs(np.subtract(y[i],y_hat[i])))\n",
    "    mae_train = (1/m) * (MAE_Errors)\n",
    "    return(mae_train)\n",
    "\n",
    "#### Result ####\n",
    "\n",
    "mae_train = MAE(Y_hat_train, y_train, m_train)\n",
    "\n",
    "####################\n",
    "# Training Results #\n",
    "####################\n",
    "\n",
    "m_test = len(y_test)\n",
    "    \n",
    "print('training mse: {} and training mae:{}'.format(mse_train, mae_train))\n",
    "\n",
    "#print('training mse: {} and training mae:{}'.format(mse_train, mae_train))\n",
    "#---------------------------------\n",
    "\n",
    "mse_test = MSE(Y_hat_test, y_test, m_test)\n",
    "\n",
    "## test error\n",
    "## add your code here\n",
    "#-----------------------\n",
    "\n",
    "mae_test = MAE(Y_hat_test, y_test, m_test)\n",
    "\n",
    "\n",
    "print('test mse: {} and test mae:{}'.format(mse_test, mae_test))\n",
    "#---------------------------------\n",
    "# training mse: 0.7867769198855628 and training mae:0.6927334108062077\n",
    "# test mse: 0.8391500534666578 and test mae:0.714897056700805"
   ]
  },
  {
   "cell_type": "markdown",
   "metadata": {},
   "source": [
    "### 3. SGD implementation (40 points)\n",
    "Use the SGD function definition given in the code (def SGD(X, Y, lr = 0.001, batch_size = 32, epoch = 100):); and do not change it."
   ]
  },
  {
   "cell_type": "code",
   "execution_count": 21,
   "metadata": {
    "scrolled": true
   },
   "outputs": [],
   "source": [
    "import numpy as np\n",
    "from sklearn import utils\n",
    "\n",
    "def SGD(X, Y, lr = 0.001, batch_size = 32, epoch = 100): \n",
    "    '''Implement the minibatch Gradient Desent approach\n",
    "    \n",
    "        X: training data\n",
    "        Y: training target\n",
    "        lr: learning rate\n",
    "        batch_size: batch size\n",
    "        epoch: number of max epoches\n",
    "        \n",
    "        return: w_star, w_hist, loss_hist\n",
    "    '''\n",
    "    m = len(Y)\n",
    "    np.random.seed(9)\n",
    "    w = np.random.rand(X.shape[1]+1, 1)    #(12,1) values in [0, 1)\n",
    "    w_hist = np.zeros((epoch, w.shape[0])) # (epoch,12) \n",
    "    loss_hist = np.zeros(epoch)            # (epoch,)\n",
    "   \n",
    "    \n",
    "    ## add your code here\n",
    "    #-----------------------\n",
    "    for i in range(epoch):\n",
    "        #(1) Shuffle data (X and Y) at the beginning of each epoch. (5 points)\n",
    "        X, Y = utils.shuffle(X, Y) \n",
    "        \"\"\"\n",
    "        Note: get a shuffle function\n",
    "        Shuffle the index, not the actual data\n",
    "        \"\"\"\n",
    "        \n",
    "        #(2) go through all minibatches and update w. (30 points)\n",
    "        for b in range(int(m/batch_size)): \n",
    "            # prepare the b minibatch X_batch and Y_batch. 10 points\n",
    "            X_batch = X[b * batch_size :(b * batch_size) + batch_size]\n",
    "            Y_batch = Y[b * batch_size :(b * batch_size) + batch_size]\n",
    "            \n",
    "            #prepare A_batch and b_batch. 10 points\n",
    "            b_batch = np.reshape(Y_batch, [Y_batch.shape[0],1])\n",
    "            A_batch = np.c_[np.ones((batch_size, 1)), X_batch]\n",
    "            #A_batch.shape\n",
    "            \n",
    "            #gradient calcualation and w update. 10 points\n",
    "            # Optimization 1: Gradient Descent\n",
    "\n",
    "            gradient = A_batch.T.dot(np.dot(A_batch, w)-b_batch)\n",
    "            #print(i, b, X_batch.shape, A_batch.shape)\n",
    "            \n",
    "            w = w - (lr * gradient)\n",
    "            \n",
    "        ## (3) Save the loss and current weight for each epoch. 5 points\n",
    "        loss_w = loss(w, X, Y)\n",
    "        loss_hist[i] = loss_w\n",
    "        w_hist[i,:] = w.T\n",
    "        \n",
    "        \n",
    "        ##(4) Decay learning rate at the end of each epoch. \n",
    "        lr = lr * 0.9\n",
    "    #---------------------------------\n",
    "\n",
    "    w_star = w\n",
    "    return w_star, w_hist, loss_hist  "
   ]
  },
  {
   "cell_type": "markdown",
   "metadata": {},
   "source": [
    "### 4. Calculate and print out the MSE and MAE values of SGD for the training and test sets (15 points)"
   ]
  },
  {
   "cell_type": "code",
   "execution_count": 22,
   "metadata": {
    "scrolled": true
   },
   "outputs": [
    {
     "name": "stdout",
     "output_type": "stream",
     "text": [
      "Predicted:  ['6.0', '6.1', '5.9', '6.3', '6.0', '6.2', '6.1', '5.9', '6.1', '5.9']\n",
      "True: [5. 7. 7. 6. 7. 6. 6. 8. 5. 6.]\n",
      "training mse:0.7151268303349417 and training mae: 0.657017344575025\n",
      "test mse: 0.7915717400384472 and test mae:0.6913868872188897\n"
     ]
    }
   ],
   "source": [
    "batch_size = 32\n",
    "n_epochs = 50\n",
    "\n",
    "#train model using SGD\n",
    "w_star_SGD, w_hist_SGD, loss_hist_SGD = SGD(X_train, y_train, lr = 0.0001, batch_size = batch_size, epoch = n_epochs)\n",
    "\n",
    "## add your code here\n",
    "#-----------------------\n",
    "#(1) print out the predicted wine quality values and the true quality \n",
    "# values of the first 10 data samples in the test dataset.  5 points\n",
    "\n",
    "Pred_train_SGD = predict(X_train, w_star_SGD)\n",
    "\n",
    "\n",
    "Pred_test_SGD = predict(X_test, w_star_SGD)\n",
    "\n",
    "\n",
    "#(2) mse and mae of the training set. 5 points\n",
    "\n",
    "m_train = len(y_train)\n",
    "mse_train_SGD = MSE(Pred_train_SGD, y_train, m_train)\n",
    "mae_train_SGD = MAE(Pred_train_SGD, y_train, m_train)\n",
    "\n",
    "#(3)mse and mae of the test set. 5 points\n",
    "\n",
    "m_test = len(y_test)\n",
    "mse_test_SGD = MSE(Pred_test_SGD, y_test, m_test)\n",
    "mae_test_SGD = MAE(Pred_test_SGD, y_test, m_test)\n",
    "\n",
    "formatted_float =list(map('{:.1f}'.format,Pred_train_SGD[:10]))\n",
    "print(\"Predicted: \", formatted_float)\n",
    "print('True: {}'.format(y_test[:10]))\n",
    "print('training mse:{} and training mae: {}'.format(mse_train_SGD, mae_train_SGD))\n",
    "print('test mse: {} and test mae:{}'.format(mse_test_SGD, mae_test_SGD))\n",
    "\n",
    "#---------------------------------\n",
    "\n",
    "# Predicted: [6.  5.6 5.7 6.5 5.7 7.  6.7 6.2 5.7 5.8]\n",
    "# True [5. 6. 7. 8. 5. 4. 6. 5. 7. 5.]\n",
    "# training mse: 0.7218402431182253 and training mae:0.6595991336722727\n",
    "# test mse: 0.7735707034736699 and test mae:0.6839863502607874"
   ]
  },
  {
   "cell_type": "markdown",
   "metadata": {},
   "source": [
    "### 5. Plot the loss curve of the SGD. (5 points)"
   ]
  },
  {
   "cell_type": "code",
   "execution_count": 23,
   "metadata": {},
   "outputs": [
    {
     "data": {
      "image/png": "[encoded data removed]",
      "text/plain": [
       "<Figure size 432x288 with 1 Axes>"
      ]
     },
     "metadata": {
      "needs_background": "light"
     },
     "output_type": "display_data"
    }
   ],
   "source": [
    "## add your code here\n",
    "#-----------------------\n",
    "batch_size = 32\n",
    "n_epochs = 50\n",
    "\n",
    "from matplotlib import pyplot as plt\n",
    "plt.plot(range(n_epochs), loss_hist_SGD)\n",
    "plt.xlabel('Iterations')\n",
    "plt.ylabel('Loss')\n",
    "plt.show()\n",
    "\n",
    "#---------------------------------"
   ]
  },
  {
   "cell_type": "markdown",
   "metadata": {},
   "source": [
    "### 6. Plot the mse curves on the training and test sets using different models (w_hist). (20 points)"
   ]
  },
  {
   "cell_type": "code",
   "execution_count": 24,
   "metadata": {},
   "outputs": [],
   "source": [
    "mse_SGD_train=np.zeros(n_epochs)\n",
    "mse_SGD_test=np.zeros(n_epochs)\n",
    "\n",
    "## add your code here\n",
    "#-----------------------\n",
    "mse_train = len(y_train)\n",
    "mse_test = len(y_test)\n",
    "value_train = np.zeros(len(mse_SGD_train))\n",
    "value_test = np.zeros(len(mse_SGD_test))\n",
    "\n",
    "for i in range(len(value_train)):\n",
    "    Pred_train = predict(X_train, w_hist_SGD[i])\n",
    "    Train = MSE(Pred_train, y_train, mse_train)\n",
    "    value_train[i] = Train\n",
    "    \n",
    "for i in range(len(value_test)):\n",
    "    Pred_test = predict(X_test, w_hist_SGD[i])\n",
    "    Test = MSE(Pred_test, y_test, mse_test)\n",
    "    value_test[i] = Test\n",
    "\n",
    "#---------------------------------"
   ]
  },
  {
   "cell_type": "code",
   "execution_count": 25,
   "metadata": {},
   "outputs": [
    {
     "data": {
      "text/plain": [
       "<matplotlib.legend.Legend at 0x7fee7c123d90>"
      ]
     },
     "execution_count": 25,
     "metadata": {},
     "output_type": "execute_result"
    },
    {
     "data": {
      "image/png": "[encoded data removed]",
      "text/plain": [
       "<Figure size 432x288 with 1 Axes>"
      ]
     },
     "metadata": {
      "needs_background": "light"
     },
     "output_type": "display_data"
    }
   ],
   "source": [
    "plt.grid()\n",
    "plt.plot(range(len(mse_SGD_train)), value_train, 'r', label ='Train Data')\n",
    "plt.plot(range(len(mse_SGD_test)), value_test, 'b', label ='Test Data')\n",
    "plt.legend(loc='upper right')\n",
    "plt.title(\"MSE Comparison\", fontsize = 18)\n",
    "plt.xlabel(\"Number of Epochs\", fontsize = 16)\n",
    "plt.ylabel(\"MSE\", fontsize = 16)\n",
    "plt.legend()\n"
   ]
  },
  {
   "cell_type": "code",
   "execution_count": null,
   "metadata": {},
   "outputs": [],
   "source": []
  },
  {
   "cell_type": "code",
   "execution_count": null,
   "metadata": {},
   "outputs": [],
   "source": []
  }
 ],
 "metadata": {
  "kernelspec": {
   "display_name": "Python 3",
   "language": "python",
   "name": "python3"
  },
  "language_info": {
   "codemirror_mode": {
    "name": "ipython",
    "version": 3
   },
   "file_extension": ".py",
   "mimetype": "text/x-python",
   "name": "python",
   "nbconvert_exporter": "python",
   "pygments_lexer": "ipython3",
   "version": "3.8.8"
  }
 },
 "nbformat": 4,
 "nbformat_minor": 2
}
