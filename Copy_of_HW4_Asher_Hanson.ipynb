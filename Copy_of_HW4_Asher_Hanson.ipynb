{
  "nbformat": 4,
  "nbformat_minor": 5,
  "metadata": {
    "colab": {
      "name": "Copy of HW4_Asher_Hanson.ipynb",
      "provenance": [],
      "collapsed_sections": []
    },
    "kernelspec": {
      "display_name": "Python 3",
      "language": "python",
      "name": "python3"
    },
    "language_info": {
      "codemirror_mode": {
        "name": "ipython",
        "version": 3
      },
      "file_extension": ".py",
      "mimetype": "text/x-python",
      "name": "python",
      "nbconvert_exporter": "python",
      "pygments_lexer": "ipython3",
      "version": "3.8.8"
    },
    "accelerator": "GPU"
  },
  "cells": [
    {
      "cell_type": "markdown",
      "metadata": {
        "id": "2cea0786"
      },
      "source": [
        "## HW4: DL Competition: Skin Cancer Detection¶\n",
        "#### Project description\n",
        "Skin cancer is the most common form of cancer, globally accounting for at least 40% of cancer cases. People with lighter skin are at higher risk. There are three main types of skin cancers: basal-cell skin cancer (BCC), squamous-cell skin cancer (SCC), and melanoma. Globally in 2012, melanoma occurred in 232,000 people and resulted in 55,000 deaths. Between 20% and 30% of melanomas develop from moles.\n",
        "\n",
        "#### Task\n",
        "In this project, we will develop deep learning-based solutions to classify images of skin moles into benign or malignant categories. You are limited to using fully-connected NNs only, and CNNs are not allowed in this project.\n",
        "\n",
        "#### Data\n",
        "The training and test set contains 2,637 and 660 images, respectively. The dataset is from a Kaggle Competition at https://www.kaggle.com/fanconic/skin-cancer-malignant-vs-benign. The 'data' folder structure is as below\n",
        "\n",
        "- data\n",
        "    - train\n",
        "        - benign\n",
        "        - malignant\n",
        "    - test\n",
        "        - benign\n",
        "        - malignant\n",
        "\n",
        "#### Code templates\n",
        "- If you have a computer with a large-size RAM (>8GB) and a fast CPU, you can download the 'standard' template and data(zip file) to work on your own computer. You need to manually unzip the data file to the folder of the code template.\n",
        " - If not, you can download the 'colab' template, and upload the code file and data zip file to your Google Drive; then open and edit the code using the Google Colab. The 3rd code cell will unzip the data file automatically.\n",
        " \n",
        "#### Submission\n",
        "Please submit your code with the screenshot of the last two cells' results to Bblearn.\n",
        "\n",
        "#### Grading\n",
        "- Accuracy on the test set will be used to determine the final grades.\n",
        "- Students of the top five approaches will earn class certificates."
      ],
      "id": "2cea0786"
    },
    {
      "cell_type": "code",
      "metadata": {
        "colab": {
          "base_uri": "https://localhost:8080/"
        },
        "id": "wRMy-gtk3o4y",
        "outputId": "f27b760b-e3b7-4c81-d38f-145b56c99f8e"
      },
      "source": [
        "from google.colab import drive\n",
        "drive.mount('/content/drive')"
      ],
      "id": "wRMy-gtk3o4y",
      "execution_count": null,
      "outputs": [
        {
          "output_type": "stream",
          "name": "stdout",
          "text": [
            "Drive already mounted at /content/drive; to attempt to forcibly remount, call drive.mount(\"/content/drive\", force_remount=True).\n"
          ]
        }
      ]
    },
    {
      "cell_type": "code",
      "metadata": {
        "colab": {
          "base_uri": "https://localhost:8080/"
        },
        "id": "CoZlE_J_PvzG",
        "outputId": "c3ca0ec8-6e2c-4a77-a577-6175f2356b6c"
      },
      "source": [
        "#unzip the image set. You only need to run this cell once.\n",
        "#you may need to change the folders bellow\n",
        "!unzip '/content/drive/MyDrive/Colab Notebooks/data.zip' -d '/content/drive/MyDrive/Colab Notebooks/'\n",
        "print('unziped the image set to /content/drive/MyDrive/Colab Notebooks/')"
      ],
      "id": "CoZlE_J_PvzG",
      "execution_count": null,
      "outputs": [
        {
          "output_type": "stream",
          "name": "stdout",
          "text": [
            "unzip:  cannot find or open /content/drive/MyDrive/Colab Notebooks/data.zip, /content/drive/MyDrive/Colab Notebooks/data.zip.zip or /content/drive/MyDrive/Colab Notebooks/data.zip.ZIP.\n",
            "unziped the image set to /content/drive/MyDrive/Colab Notebooks/\n"
          ]
        }
      ]
    },
    {
      "cell_type": "code",
      "metadata": {
        "id": "8d85e6f1"
      },
      "source": [
        "import matplotlib.pyplot as plt\n",
        "import numpy as np\n",
        "from tensorflow import keras"
      ],
      "id": "8d85e6f1",
      "execution_count": null,
      "outputs": []
    },
    {
      "cell_type": "markdown",
      "metadata": {
        "id": "53355827"
      },
      "source": [
        "### 1. Data preparation"
      ],
      "id": "53355827"
    },
    {
      "cell_type": "code",
      "metadata": {
        "colab": {
          "base_uri": "https://localhost:8080/"
        },
        "id": "80c329df",
        "outputId": "6eeebba8-4295-4b64-dffc-3a6418fb649d"
      },
      "source": [
        "import os\n",
        "from PIL import Image\n",
        "\n",
        "#1.1 get image lists\n",
        "train_b = '/content/drive/MyDrive/data/train/benign'\n",
        "train_m = '/content/drive/MyDrive/data/train/malignant'\n",
        "\n",
        "test_b = '/content/drive/MyDrive/data/test/benign'\n",
        "test_m = '/content/drive/MyDrive/data/test/malignant'\n",
        "\n",
        "def getImList(folder):\n",
        "    # get the list of file names in 'folder'\n",
        "    imList = os.listdir(folder) # get all names\n",
        "    fPath = [os.path.join(folder, fName) for fName in imList] # add path to names\n",
        "    \n",
        "    return fPath\n",
        "\n",
        "trainList_b = getImList(train_b)\n",
        "trainList_m = getImList(train_m)\n",
        "trainList = trainList_b + trainList_m\n",
        "print(\"# training images:\", len(trainList))\n",
        "\n",
        "testList_b = getImList(test_b)\n",
        "testList_m = getImList(test_m)\n",
        "testList = testList_b + testList_m\n",
        "print(\"# test images:\", len(testList))\n",
        "\n",
        "#1.2 load all images\n",
        "read = lambda imName: np.asarray(Image.open(imName).convert(\"RGB\"))\n",
        "print('loading images ...')\n",
        "X_train = [read(name) for name in trainList]\n",
        "X_train = np.array(X_train, dtype='uint8')/255\n",
        "print('.   training set shape:', X_train.shape)\n",
        "\n",
        "X_test = [read(name) for name in testList]\n",
        "X_test = np.array(X_test, dtype='uint8')/255\n",
        "print('.   test set shape:', X_test.shape)\n",
        "\n",
        "print('loading ended.')\n",
        "\n",
        "# 1.3 Create target labels\n",
        "y_benign_train = np.zeros(len(trainList_b))\n",
        "y_malignant_train = np.ones(len(trainList_m))\n",
        "y_train = np.concatenate((y_benign_train, y_malignant_train), axis = 0)\n",
        "print('.    training target shape: ', y_train.shape)\n",
        "y_benign_test = np.zeros(len(testList_b))\n",
        "y_malignant_test = np.ones(len(testList_m))\n",
        "y_test = np.concatenate((y_benign_test, y_malignant_test), axis = 0)\n",
        "print('.    test target shape', y_test.shape)\n",
        "\n",
        "# 1.4 Shuffle data\n",
        "print('shuffling data ...')\n",
        "s = np.arange(X_train.shape[0])\n",
        "np.random.shuffle(s)\n",
        "X_train = X_train[s]\n",
        "y_train = y_train[s]\n",
        "\n",
        "s = np.arange(X_test.shape[0])\n",
        "np.random.shuffle(s)\n",
        "X_test = X_test[s]\n",
        "y_test = y_test[s]\n",
        "\n",
        "print('Dataset is ready for using.')"
      ],
      "id": "80c329df",
      "execution_count": null,
      "outputs": [
        {
          "output_type": "stream",
          "name": "stdout",
          "text": [
            "# training images: 2637\n",
            "# test images: 660\n",
            "loading images ...\n",
            ".   training set shape: (2637, 224, 224, 3)\n",
            ".   test set shape: (660, 224, 224, 3)\n",
            "loading ended.\n",
            ".    training target shape:  (2637,)\n",
            ".    test target shape (660,)\n",
            "shuffling data ...\n",
            "Dataset is ready for using.\n"
          ]
        }
      ]
    },
    {
      "cell_type": "code",
      "metadata": {
        "colab": {
          "base_uri": "https://localhost:8080/"
        },
        "id": "b9f2f1cd",
        "outputId": "faf3237c-eae3-4a9b-ed5b-6185ba708c65"
      },
      "source": [
        "#reshape images to vectors\n",
        "X_train_1 = np.reshape(X_train, [X_train.shape[0], X_train.shape[1] * X_train.shape[2]*3])\n",
        "X_test_1 = np.reshape(X_test, [X_test.shape[0], X_test.shape[1] * X_test.shape[2]*3])\n",
        "y_train_onehot = keras.utils.to_categorical(y_train)\n",
        "\n",
        "print(X_train_1.shape, X_test_1.shape)"
      ],
      "id": "b9f2f1cd",
      "execution_count": null,
      "outputs": [
        {
          "output_type": "stream",
          "name": "stdout",
          "text": [
            "(2637, 150528) (660, 150528)\n"
          ]
        }
      ]
    },
    {
      "cell_type": "markdown",
      "metadata": {
        "id": "u_xCuBgLYw9p"
      },
      "source": [
        "### 2. Construct a fully-connected deep NN"
      ],
      "id": "u_xCuBgLYw9p"
    },
    {
      "cell_type": "code",
      "metadata": {
        "colab": {
          "base_uri": "https://localhost:8080/"
        },
        "id": "60e46a22",
        "outputId": "110312b1-3579-465e-dd67-55e7ef074c2f"
      },
      "source": [
        "# Create a fc NN\n",
        "def buildModel(input_dims, out_dims):\n",
        "    '''construct your model in this function\n",
        "    \n",
        "        return model\n",
        "    '''\n",
        "    model = keras.models.Sequential()\n",
        "\n",
        "    ## add your code here\n",
        "    #-----------------------------------------------------\n",
        "    # hidden layers\n",
        "    model.add(keras.layers.Dense(1352, input_dim = 150528, activation = \"relu\"))\n",
        "    model.add(keras.layers.Dense(500, activation = \"relu\"))\n",
        "    model.add(keras.layers.Dense(500, activation = \"relu\"))\n",
        "    model.add(keras.layers.Dense(500, activation = \"relu\" ))\n",
        "    model.add(keras.layers.Dense(500, activation = \"relu\" ))\n",
        "        \n",
        "    # output layer\n",
        "    model.add(keras.layers.Dense(2, activation = \"softmax\"))\n",
        "\n",
        "    # compile\n",
        "    model.compile(loss = \"binary_crossentropy\", optimizer='adam', metrics = [\"accuracy\"])\n",
        "    \n",
        "    #------------------------------------------------------\n",
        "    return model\n",
        "\n",
        "model = buildModel(input_dims=X_train_1.shape[1], out_dims = 2)\n",
        "model.summary()"
      ],
      "id": "60e46a22",
      "execution_count": null,
      "outputs": [
        {
          "output_type": "stream",
          "name": "stdout",
          "text": [
            "Model: \"sequential\"\n",
            "_________________________________________________________________\n",
            " Layer (type)                Output Shape              Param #   \n",
            "=================================================================\n",
            " dense (Dense)               (None, 1352)              203515208 \n",
            "                                                                 \n",
            " dense_1 (Dense)             (None, 500)               676500    \n",
            "                                                                 \n",
            " dense_2 (Dense)             (None, 500)               250500    \n",
            "                                                                 \n",
            " dense_3 (Dense)             (None, 500)               250500    \n",
            "                                                                 \n",
            " dense_4 (Dense)             (None, 500)               250500    \n",
            "                                                                 \n",
            " dense_5 (Dense)             (None, 2)                 1002      \n",
            "                                                                 \n",
            "=================================================================\n",
            "Total params: 204,944,210\n",
            "Trainable params: 204,944,210\n",
            "Non-trainable params: 0\n",
            "_________________________________________________________________\n"
          ]
        }
      ]
    },
    {
      "cell_type": "markdown",
      "metadata": {
        "id": "6NPHkJVrbNp7"
      },
      "source": [
        "### 3. Train and evaluate the model"
      ],
      "id": "6NPHkJVrbNp7"
    },
    {
      "cell_type": "code",
      "metadata": {
        "id": "2d8271c2",
        "colab": {
          "base_uri": "https://localhost:8080/"
        },
        "outputId": "6b07e30f-7557-475d-fba3-9c09b2de7fdb"
      },
      "source": [
        "#3.1 train the model\n",
        "#history = model.fit(...)\n",
        "## add your code here\n",
        "#-----------------------------------------------------\n",
        "# The Best One\n",
        "history = model.fit(X_train_1, y_train_onehot, batch_size = 63, epochs = 180, validation_split = 0.25)\n",
        "\n",
        "#------------------------------------------------------"
      ],
      "id": "2d8271c2",
      "execution_count": null,
      "outputs": [
        {
          "output_type": "stream",
          "name": "stdout",
          "text": [
            "Epoch 1/180\n",
            "32/32 [==============================] - 8s 137ms/step - loss: 12.1626 - accuracy: 0.4841 - val_loss: 1.7243 - val_accuracy: 0.5379\n",
            "Epoch 2/180\n",
            "32/32 [==============================] - 4s 125ms/step - loss: 1.3287 - accuracy: 0.5432 - val_loss: 0.7144 - val_accuracy: 0.6258\n",
            "Epoch 3/180\n",
            "32/32 [==============================] - 4s 132ms/step - loss: 0.6577 - accuracy: 0.6171 - val_loss: 0.6526 - val_accuracy: 0.6652\n",
            "Epoch 4/180\n",
            "32/32 [==============================] - 4s 125ms/step - loss: 0.6390 - accuracy: 0.6439 - val_loss: 0.5899 - val_accuracy: 0.6409\n",
            "Epoch 5/180\n",
            "32/32 [==============================] - 4s 126ms/step - loss: 0.5791 - accuracy: 0.6894 - val_loss: 0.6480 - val_accuracy: 0.6076\n",
            "Epoch 6/180\n",
            "32/32 [==============================] - 4s 123ms/step - loss: 0.5274 - accuracy: 0.7243 - val_loss: 0.5047 - val_accuracy: 0.7545\n",
            "Epoch 7/180\n",
            "32/32 [==============================] - 4s 124ms/step - loss: 0.5189 - accuracy: 0.7289 - val_loss: 0.5345 - val_accuracy: 0.7470\n",
            "Epoch 8/180\n",
            "32/32 [==============================] - 4s 125ms/step - loss: 0.4962 - accuracy: 0.7405 - val_loss: 0.4923 - val_accuracy: 0.7636\n",
            "Epoch 9/180\n",
            "32/32 [==============================] - 4s 126ms/step - loss: 0.5279 - accuracy: 0.7339 - val_loss: 0.5688 - val_accuracy: 0.6939\n",
            "Epoch 10/180\n",
            "32/32 [==============================] - 4s 124ms/step - loss: 0.5267 - accuracy: 0.7339 - val_loss: 0.4912 - val_accuracy: 0.7530\n",
            "Epoch 11/180\n",
            "32/32 [==============================] - 4s 124ms/step - loss: 0.5117 - accuracy: 0.7400 - val_loss: 0.4982 - val_accuracy: 0.7606\n",
            "Epoch 12/180\n",
            "32/32 [==============================] - 4s 125ms/step - loss: 0.5013 - accuracy: 0.7461 - val_loss: 0.5473 - val_accuracy: 0.6939\n",
            "Epoch 13/180\n",
            "32/32 [==============================] - 4s 124ms/step - loss: 0.5662 - accuracy: 0.7122 - val_loss: 0.5141 - val_accuracy: 0.7424\n",
            "Epoch 14/180\n",
            "32/32 [==============================] - 4s 127ms/step - loss: 0.5126 - accuracy: 0.7390 - val_loss: 0.5053 - val_accuracy: 0.7530\n",
            "Epoch 15/180\n",
            "32/32 [==============================] - 4s 126ms/step - loss: 0.4855 - accuracy: 0.7516 - val_loss: 0.8922 - val_accuracy: 0.5515\n",
            "Epoch 16/180\n",
            "32/32 [==============================] - 4s 126ms/step - loss: 0.5128 - accuracy: 0.7441 - val_loss: 0.4829 - val_accuracy: 0.7697\n",
            "Epoch 17/180\n",
            "32/32 [==============================] - 4s 127ms/step - loss: 0.4727 - accuracy: 0.7638 - val_loss: 0.5642 - val_accuracy: 0.7076\n",
            "Epoch 18/180\n",
            "32/32 [==============================] - 4s 133ms/step - loss: 0.4516 - accuracy: 0.7744 - val_loss: 0.4809 - val_accuracy: 0.7727\n",
            "Epoch 19/180\n",
            "32/32 [==============================] - 4s 126ms/step - loss: 0.4603 - accuracy: 0.7683 - val_loss: 0.5047 - val_accuracy: 0.7803\n",
            "Epoch 20/180\n",
            "32/32 [==============================] - 4s 125ms/step - loss: 0.4583 - accuracy: 0.7749 - val_loss: 0.5575 - val_accuracy: 0.7470\n",
            "Epoch 21/180\n",
            "32/32 [==============================] - 4s 133ms/step - loss: 0.4660 - accuracy: 0.7678 - val_loss: 0.4932 - val_accuracy: 0.7333\n",
            "Epoch 22/180\n",
            "32/32 [==============================] - 4s 125ms/step - loss: 0.4703 - accuracy: 0.7506 - val_loss: 0.4807 - val_accuracy: 0.7682\n",
            "Epoch 23/180\n",
            "32/32 [==============================] - 4s 125ms/step - loss: 0.4293 - accuracy: 0.7795 - val_loss: 0.6142 - val_accuracy: 0.7076\n",
            "Epoch 24/180\n",
            "32/32 [==============================] - 4s 122ms/step - loss: 0.4890 - accuracy: 0.7582 - val_loss: 0.4911 - val_accuracy: 0.7576\n",
            "Epoch 25/180\n",
            "32/32 [==============================] - 4s 124ms/step - loss: 0.4554 - accuracy: 0.7638 - val_loss: 0.4602 - val_accuracy: 0.7697\n",
            "Epoch 26/180\n",
            "32/32 [==============================] - 4s 123ms/step - loss: 0.4449 - accuracy: 0.7749 - val_loss: 0.4652 - val_accuracy: 0.7818\n",
            "Epoch 27/180\n",
            "32/32 [==============================] - 4s 122ms/step - loss: 0.4577 - accuracy: 0.7506 - val_loss: 0.4678 - val_accuracy: 0.7667\n",
            "Epoch 28/180\n",
            "32/32 [==============================] - 4s 132ms/step - loss: 0.4290 - accuracy: 0.7886 - val_loss: 0.5505 - val_accuracy: 0.7455\n",
            "Epoch 29/180\n",
            "32/32 [==============================] - 4s 123ms/step - loss: 0.4525 - accuracy: 0.7714 - val_loss: 0.5512 - val_accuracy: 0.6773\n",
            "Epoch 30/180\n",
            "32/32 [==============================] - 4s 124ms/step - loss: 0.4171 - accuracy: 0.7850 - val_loss: 0.4347 - val_accuracy: 0.7667\n",
            "Epoch 31/180\n",
            "32/32 [==============================] - 4s 124ms/step - loss: 0.4098 - accuracy: 0.7916 - val_loss: 0.4529 - val_accuracy: 0.7515\n",
            "Epoch 32/180\n",
            "32/32 [==============================] - 4s 124ms/step - loss: 0.4173 - accuracy: 0.7734 - val_loss: 0.5100 - val_accuracy: 0.7455\n",
            "Epoch 33/180\n",
            "32/32 [==============================] - 4s 125ms/step - loss: 0.4471 - accuracy: 0.7592 - val_loss: 0.4706 - val_accuracy: 0.7909\n",
            "Epoch 34/180\n",
            "32/32 [==============================] - 4s 124ms/step - loss: 0.4099 - accuracy: 0.7967 - val_loss: 0.4638 - val_accuracy: 0.7803\n",
            "Epoch 35/180\n",
            "32/32 [==============================] - 4s 125ms/step - loss: 0.4104 - accuracy: 0.7795 - val_loss: 0.4964 - val_accuracy: 0.7439\n",
            "Epoch 36/180\n",
            "32/32 [==============================] - 4s 125ms/step - loss: 0.3961 - accuracy: 0.7946 - val_loss: 0.9390 - val_accuracy: 0.6742\n",
            "Epoch 37/180\n",
            "32/32 [==============================] - 4s 125ms/step - loss: 0.5115 - accuracy: 0.7496 - val_loss: 0.4726 - val_accuracy: 0.7788\n",
            "Epoch 38/180\n",
            "32/32 [==============================] - 4s 132ms/step - loss: 0.4518 - accuracy: 0.7663 - val_loss: 0.4482 - val_accuracy: 0.7758\n",
            "Epoch 39/180\n",
            "32/32 [==============================] - 4s 125ms/step - loss: 0.3965 - accuracy: 0.8012 - val_loss: 0.5204 - val_accuracy: 0.7606\n",
            "Epoch 40/180\n",
            "32/32 [==============================] - 4s 124ms/step - loss: 0.3953 - accuracy: 0.7951 - val_loss: 0.4279 - val_accuracy: 0.7909\n",
            "Epoch 41/180\n",
            "32/32 [==============================] - 4s 124ms/step - loss: 0.3936 - accuracy: 0.7967 - val_loss: 0.5525 - val_accuracy: 0.7500\n",
            "Epoch 42/180\n",
            "32/32 [==============================] - 4s 125ms/step - loss: 0.4315 - accuracy: 0.7871 - val_loss: 0.4357 - val_accuracy: 0.7727\n",
            "Epoch 43/180\n",
            "32/32 [==============================] - 4s 125ms/step - loss: 0.4054 - accuracy: 0.8002 - val_loss: 0.4255 - val_accuracy: 0.7742\n",
            "Epoch 44/180\n",
            "32/32 [==============================] - 4s 126ms/step - loss: 0.4061 - accuracy: 0.7931 - val_loss: 0.4235 - val_accuracy: 0.7773\n",
            "Epoch 45/180\n",
            "32/32 [==============================] - 4s 125ms/step - loss: 0.3886 - accuracy: 0.7926 - val_loss: 0.4395 - val_accuracy: 0.7667\n",
            "Epoch 46/180\n",
            "32/32 [==============================] - 4s 124ms/step - loss: 0.3852 - accuracy: 0.8002 - val_loss: 0.4437 - val_accuracy: 0.7803\n",
            "Epoch 47/180\n",
            "32/32 [==============================] - 4s 132ms/step - loss: 0.3801 - accuracy: 0.7992 - val_loss: 0.4149 - val_accuracy: 0.7848\n",
            "Epoch 48/180\n",
            "32/32 [==============================] - 4s 125ms/step - loss: 0.4300 - accuracy: 0.7683 - val_loss: 0.4843 - val_accuracy: 0.7394\n",
            "Epoch 49/180\n",
            "32/32 [==============================] - 4s 125ms/step - loss: 0.4201 - accuracy: 0.7845 - val_loss: 0.4248 - val_accuracy: 0.7788\n",
            "Epoch 50/180\n",
            "32/32 [==============================] - 4s 125ms/step - loss: 0.3871 - accuracy: 0.7997 - val_loss: 0.4204 - val_accuracy: 0.7727\n",
            "Epoch 51/180\n",
            "32/32 [==============================] - 4s 124ms/step - loss: 0.4064 - accuracy: 0.7941 - val_loss: 0.4794 - val_accuracy: 0.7682\n",
            "Epoch 52/180\n",
            "32/32 [==============================] - 4s 124ms/step - loss: 0.3656 - accuracy: 0.8123 - val_loss: 0.4158 - val_accuracy: 0.8106\n",
            "Epoch 53/180\n",
            "32/32 [==============================] - 4s 124ms/step - loss: 0.3838 - accuracy: 0.8083 - val_loss: 0.4633 - val_accuracy: 0.7864\n",
            "Epoch 54/180\n",
            "32/32 [==============================] - 4s 124ms/step - loss: 0.4362 - accuracy: 0.7835 - val_loss: 0.4669 - val_accuracy: 0.7788\n",
            "Epoch 55/180\n",
            "32/32 [==============================] - 4s 124ms/step - loss: 0.3825 - accuracy: 0.8027 - val_loss: 0.4413 - val_accuracy: 0.7758\n",
            "Epoch 56/180\n",
            "32/32 [==============================] - 4s 124ms/step - loss: 0.4004 - accuracy: 0.7956 - val_loss: 0.4610 - val_accuracy: 0.7409\n",
            "Epoch 57/180\n",
            "32/32 [==============================] - 4s 124ms/step - loss: 0.4136 - accuracy: 0.7845 - val_loss: 0.4154 - val_accuracy: 0.7818\n",
            "Epoch 58/180\n",
            "32/32 [==============================] - 4s 126ms/step - loss: 0.3970 - accuracy: 0.7972 - val_loss: 0.6313 - val_accuracy: 0.7136\n",
            "Epoch 59/180\n",
            "32/32 [==============================] - 4s 124ms/step - loss: 0.4229 - accuracy: 0.7921 - val_loss: 0.4121 - val_accuracy: 0.7924\n",
            "Epoch 60/180\n",
            "32/32 [==============================] - 4s 124ms/step - loss: 0.3622 - accuracy: 0.8134 - val_loss: 0.4075 - val_accuracy: 0.7788\n",
            "Epoch 61/180\n",
            "32/32 [==============================] - 4s 133ms/step - loss: 0.3645 - accuracy: 0.8159 - val_loss: 0.4257 - val_accuracy: 0.7652\n",
            "Epoch 62/180\n",
            "32/32 [==============================] - 4s 124ms/step - loss: 0.3545 - accuracy: 0.8225 - val_loss: 0.4456 - val_accuracy: 0.7803\n",
            "Epoch 63/180\n",
            "32/32 [==============================] - 4s 126ms/step - loss: 0.3853 - accuracy: 0.8007 - val_loss: 0.4075 - val_accuracy: 0.7939\n",
            "Epoch 64/180\n",
            "32/32 [==============================] - 4s 125ms/step - loss: 0.3532 - accuracy: 0.8154 - val_loss: 0.4105 - val_accuracy: 0.8000\n",
            "Epoch 65/180\n",
            "32/32 [==============================] - 4s 124ms/step - loss: 0.3686 - accuracy: 0.8118 - val_loss: 0.4505 - val_accuracy: 0.7803\n",
            "Epoch 66/180\n",
            "32/32 [==============================] - 4s 126ms/step - loss: 0.3564 - accuracy: 0.8174 - val_loss: 0.4354 - val_accuracy: 0.7894\n",
            "Epoch 67/180\n",
            "32/32 [==============================] - 4s 123ms/step - loss: 0.3695 - accuracy: 0.8123 - val_loss: 0.3967 - val_accuracy: 0.7985\n",
            "Epoch 68/180\n",
            "32/32 [==============================] - 4s 124ms/step - loss: 0.4451 - accuracy: 0.7810 - val_loss: 0.4283 - val_accuracy: 0.7773\n",
            "Epoch 69/180\n",
            "32/32 [==============================] - 4s 132ms/step - loss: 0.3669 - accuracy: 0.8073 - val_loss: 0.4151 - val_accuracy: 0.7879\n",
            "Epoch 70/180\n",
            "32/32 [==============================] - 4s 126ms/step - loss: 0.3664 - accuracy: 0.8189 - val_loss: 0.4103 - val_accuracy: 0.7955\n",
            "Epoch 71/180\n",
            "32/32 [==============================] - 4s 125ms/step - loss: 0.3453 - accuracy: 0.8275 - val_loss: 0.4246 - val_accuracy: 0.7788\n",
            "Epoch 72/180\n",
            "32/32 [==============================] - 4s 125ms/step - loss: 0.4374 - accuracy: 0.7891 - val_loss: 0.4916 - val_accuracy: 0.7621\n",
            "Epoch 73/180\n",
            "32/32 [==============================] - 4s 123ms/step - loss: 0.4534 - accuracy: 0.7769 - val_loss: 0.7454 - val_accuracy: 0.5576\n",
            "Epoch 74/180\n",
            "32/32 [==============================] - 4s 125ms/step - loss: 0.4812 - accuracy: 0.7527 - val_loss: 0.4540 - val_accuracy: 0.7818\n",
            "Epoch 75/180\n",
            "32/32 [==============================] - 4s 125ms/step - loss: 0.4124 - accuracy: 0.8002 - val_loss: 0.5135 - val_accuracy: 0.7136\n",
            "Epoch 76/180\n",
            "32/32 [==============================] - 4s 125ms/step - loss: 0.3915 - accuracy: 0.8037 - val_loss: 0.5533 - val_accuracy: 0.7182\n",
            "Epoch 77/180\n",
            "32/32 [==============================] - 4s 124ms/step - loss: 0.3972 - accuracy: 0.8093 - val_loss: 0.4382 - val_accuracy: 0.7894\n",
            "Epoch 78/180\n",
            "32/32 [==============================] - 4s 124ms/step - loss: 0.3696 - accuracy: 0.8209 - val_loss: 0.4470 - val_accuracy: 0.7591\n",
            "Epoch 79/180\n",
            "32/32 [==============================] - 4s 125ms/step - loss: 0.3567 - accuracy: 0.8235 - val_loss: 0.4580 - val_accuracy: 0.7939\n",
            "Epoch 80/180\n",
            "32/32 [==============================] - 4s 125ms/step - loss: 0.4061 - accuracy: 0.7820 - val_loss: 0.4388 - val_accuracy: 0.7652\n",
            "Epoch 81/180\n",
            "32/32 [==============================] - 4s 126ms/step - loss: 0.3698 - accuracy: 0.8159 - val_loss: 0.5229 - val_accuracy: 0.7727\n",
            "Epoch 82/180\n",
            "32/32 [==============================] - 4s 125ms/step - loss: 0.3723 - accuracy: 0.8073 - val_loss: 0.3975 - val_accuracy: 0.8030\n",
            "Epoch 83/180\n",
            "32/32 [==============================] - 4s 124ms/step - loss: 0.3588 - accuracy: 0.8073 - val_loss: 0.4143 - val_accuracy: 0.7970\n",
            "Epoch 84/180\n",
            "32/32 [==============================] - 4s 125ms/step - loss: 0.4325 - accuracy: 0.7855 - val_loss: 0.4323 - val_accuracy: 0.7803\n",
            "Epoch 85/180\n",
            "32/32 [==============================] - 4s 124ms/step - loss: 0.3844 - accuracy: 0.8179 - val_loss: 0.4068 - val_accuracy: 0.7879\n",
            "Epoch 86/180\n",
            "32/32 [==============================] - 4s 132ms/step - loss: 0.3883 - accuracy: 0.8042 - val_loss: 0.6410 - val_accuracy: 0.7303\n",
            "Epoch 87/180\n",
            "32/32 [==============================] - 4s 125ms/step - loss: 0.3616 - accuracy: 0.8260 - val_loss: 0.4119 - val_accuracy: 0.8015\n",
            "Epoch 88/180\n",
            "32/32 [==============================] - 4s 125ms/step - loss: 0.3565 - accuracy: 0.8270 - val_loss: 0.5381 - val_accuracy: 0.7500\n",
            "Epoch 89/180\n",
            "32/32 [==============================] - 4s 126ms/step - loss: 0.3759 - accuracy: 0.8139 - val_loss: 0.4172 - val_accuracy: 0.7788\n",
            "Epoch 90/180\n",
            "32/32 [==============================] - 4s 126ms/step - loss: 0.3702 - accuracy: 0.8169 - val_loss: 0.4242 - val_accuracy: 0.7833\n",
            "Epoch 91/180\n",
            "32/32 [==============================] - 4s 125ms/step - loss: 0.3584 - accuracy: 0.8169 - val_loss: 0.4143 - val_accuracy: 0.7727\n",
            "Epoch 92/180\n",
            "32/32 [==============================] - 4s 124ms/step - loss: 0.3505 - accuracy: 0.8159 - val_loss: 0.4268 - val_accuracy: 0.7803\n",
            "Epoch 93/180\n",
            "32/32 [==============================] - 4s 126ms/step - loss: 0.3243 - accuracy: 0.8402 - val_loss: 0.4083 - val_accuracy: 0.7909\n",
            "Epoch 94/180\n",
            "32/32 [==============================] - 4s 125ms/step - loss: 0.3187 - accuracy: 0.8447 - val_loss: 0.4176 - val_accuracy: 0.7955\n",
            "Epoch 95/180\n",
            "32/32 [==============================] - 4s 133ms/step - loss: 0.3225 - accuracy: 0.8371 - val_loss: 0.5731 - val_accuracy: 0.7848\n",
            "Epoch 96/180\n",
            "32/32 [==============================] - 4s 124ms/step - loss: 0.3708 - accuracy: 0.8204 - val_loss: 0.4315 - val_accuracy: 0.7970\n",
            "Epoch 97/180\n",
            "32/32 [==============================] - 4s 123ms/step - loss: 0.3724 - accuracy: 0.8189 - val_loss: 0.4046 - val_accuracy: 0.8015\n",
            "Epoch 98/180\n",
            "32/32 [==============================] - 4s 127ms/step - loss: 0.3277 - accuracy: 0.8386 - val_loss: 0.4548 - val_accuracy: 0.7939\n",
            "Epoch 99/180\n",
            "32/32 [==============================] - 4s 126ms/step - loss: 0.3868 - accuracy: 0.8098 - val_loss: 0.4538 - val_accuracy: 0.7803\n",
            "Epoch 100/180\n",
            "32/32 [==============================] - 4s 125ms/step - loss: 0.3679 - accuracy: 0.8235 - val_loss: 0.4324 - val_accuracy: 0.7682\n",
            "Epoch 101/180\n",
            "32/32 [==============================] - 4s 125ms/step - loss: 0.4228 - accuracy: 0.7926 - val_loss: 0.4229 - val_accuracy: 0.7848\n",
            "Epoch 102/180\n",
            "32/32 [==============================] - 4s 123ms/step - loss: 0.3788 - accuracy: 0.8134 - val_loss: 0.4567 - val_accuracy: 0.7773\n",
            "Epoch 103/180\n",
            "32/32 [==============================] - 4s 124ms/step - loss: 0.3422 - accuracy: 0.8255 - val_loss: 0.4501 - val_accuracy: 0.8015\n",
            "Epoch 104/180\n",
            "32/32 [==============================] - 4s 125ms/step - loss: 0.3510 - accuracy: 0.8214 - val_loss: 0.4107 - val_accuracy: 0.7879\n",
            "Epoch 105/180\n",
            "32/32 [==============================] - 4s 125ms/step - loss: 0.3684 - accuracy: 0.8027 - val_loss: 0.3913 - val_accuracy: 0.7924\n",
            "Epoch 106/180\n",
            "32/32 [==============================] - 4s 125ms/step - loss: 0.3562 - accuracy: 0.8134 - val_loss: 0.4541 - val_accuracy: 0.7939\n",
            "Epoch 107/180\n",
            "32/32 [==============================] - 4s 125ms/step - loss: 0.3375 - accuracy: 0.8230 - val_loss: 0.4582 - val_accuracy: 0.7879\n",
            "Epoch 108/180\n",
            "32/32 [==============================] - 4s 126ms/step - loss: 0.3413 - accuracy: 0.8311 - val_loss: 0.5753 - val_accuracy: 0.7758\n",
            "Epoch 109/180\n",
            "32/32 [==============================] - 4s 132ms/step - loss: 0.4034 - accuracy: 0.7972 - val_loss: 0.4673 - val_accuracy: 0.7833\n",
            "Epoch 110/180\n",
            "32/32 [==============================] - 4s 125ms/step - loss: 0.3503 - accuracy: 0.8295 - val_loss: 0.4779 - val_accuracy: 0.7303\n",
            "Epoch 111/180\n",
            "32/32 [==============================] - 4s 126ms/step - loss: 0.3707 - accuracy: 0.8194 - val_loss: 0.4603 - val_accuracy: 0.7909\n",
            "Epoch 112/180\n",
            "32/32 [==============================] - 4s 125ms/step - loss: 0.3728 - accuracy: 0.8245 - val_loss: 0.5989 - val_accuracy: 0.7061\n",
            "Epoch 113/180\n",
            "32/32 [==============================] - 4s 125ms/step - loss: 0.4107 - accuracy: 0.7977 - val_loss: 0.4350 - val_accuracy: 0.7970\n",
            "Epoch 114/180\n",
            "32/32 [==============================] - 4s 125ms/step - loss: 0.3421 - accuracy: 0.8280 - val_loss: 0.4376 - val_accuracy: 0.7848\n",
            "Epoch 115/180\n",
            "32/32 [==============================] - 4s 124ms/step - loss: 0.3398 - accuracy: 0.8407 - val_loss: 0.4743 - val_accuracy: 0.7955\n",
            "Epoch 116/180\n",
            "32/32 [==============================] - 4s 125ms/step - loss: 0.3396 - accuracy: 0.8381 - val_loss: 0.4721 - val_accuracy: 0.7879\n",
            "Epoch 117/180\n",
            "32/32 [==============================] - 4s 126ms/step - loss: 0.4168 - accuracy: 0.7982 - val_loss: 0.4481 - val_accuracy: 0.7788\n",
            "Epoch 118/180\n",
            "32/32 [==============================] - 4s 122ms/step - loss: 0.3628 - accuracy: 0.8220 - val_loss: 0.6799 - val_accuracy: 0.7227\n",
            "Epoch 119/180\n",
            "32/32 [==============================] - 4s 126ms/step - loss: 0.4155 - accuracy: 0.7987 - val_loss: 0.4617 - val_accuracy: 0.7455\n",
            "Epoch 120/180\n",
            "32/32 [==============================] - 4s 125ms/step - loss: 0.3634 - accuracy: 0.8235 - val_loss: 0.4262 - val_accuracy: 0.7924\n",
            "Epoch 121/180\n",
            "32/32 [==============================] - 4s 123ms/step - loss: 0.3465 - accuracy: 0.8265 - val_loss: 0.4071 - val_accuracy: 0.7833\n",
            "Epoch 122/180\n",
            "32/32 [==============================] - 4s 126ms/step - loss: 0.3717 - accuracy: 0.8260 - val_loss: 0.4415 - val_accuracy: 0.7576\n",
            "Epoch 123/180\n",
            "32/32 [==============================] - 4s 126ms/step - loss: 0.3957 - accuracy: 0.8037 - val_loss: 0.3946 - val_accuracy: 0.7970\n",
            "Epoch 124/180\n",
            "32/32 [==============================] - 4s 124ms/step - loss: 0.3584 - accuracy: 0.8194 - val_loss: 0.4702 - val_accuracy: 0.7712\n",
            "Epoch 125/180\n",
            "32/32 [==============================] - 4s 125ms/step - loss: 0.3538 - accuracy: 0.8306 - val_loss: 0.4168 - val_accuracy: 0.7894\n",
            "Epoch 126/180\n",
            "32/32 [==============================] - 4s 126ms/step - loss: 0.3633 - accuracy: 0.8194 - val_loss: 0.4103 - val_accuracy: 0.7894\n",
            "Epoch 127/180\n",
            "32/32 [==============================] - 4s 124ms/step - loss: 0.3276 - accuracy: 0.8376 - val_loss: 0.6825 - val_accuracy: 0.7697\n",
            "Epoch 128/180\n",
            "32/32 [==============================] - 4s 123ms/step - loss: 0.3254 - accuracy: 0.8336 - val_loss: 0.4447 - val_accuracy: 0.7955\n",
            "Epoch 129/180\n",
            "32/32 [==============================] - 4s 125ms/step - loss: 0.3295 - accuracy: 0.8432 - val_loss: 0.4409 - val_accuracy: 0.7712\n",
            "Epoch 130/180\n",
            "32/32 [==============================] - 4s 125ms/step - loss: 0.3259 - accuracy: 0.8392 - val_loss: 0.4841 - val_accuracy: 0.7848\n",
            "Epoch 131/180\n",
            "32/32 [==============================] - 4s 125ms/step - loss: 0.4203 - accuracy: 0.7992 - val_loss: 0.4213 - val_accuracy: 0.7788\n",
            "Epoch 132/180\n",
            "32/32 [==============================] - 4s 126ms/step - loss: 0.3667 - accuracy: 0.8194 - val_loss: 0.4713 - val_accuracy: 0.7394\n",
            "Epoch 133/180\n",
            "32/32 [==============================] - 4s 124ms/step - loss: 0.3642 - accuracy: 0.8149 - val_loss: 0.4384 - val_accuracy: 0.7924\n",
            "Epoch 134/180\n",
            "32/32 [==============================] - 4s 123ms/step - loss: 0.3135 - accuracy: 0.8397 - val_loss: 0.4587 - val_accuracy: 0.8015\n",
            "Epoch 135/180\n",
            "32/32 [==============================] - 4s 125ms/step - loss: 0.3520 - accuracy: 0.8265 - val_loss: 0.4385 - val_accuracy: 0.7712\n",
            "Epoch 136/180\n",
            "32/32 [==============================] - 4s 126ms/step - loss: 0.3185 - accuracy: 0.8427 - val_loss: 0.4277 - val_accuracy: 0.7788\n",
            "Epoch 137/180\n",
            "32/32 [==============================] - 4s 132ms/step - loss: 0.3494 - accuracy: 0.8295 - val_loss: 0.4146 - val_accuracy: 0.7758\n",
            "Epoch 138/180\n",
            "32/32 [==============================] - 4s 127ms/step - loss: 0.3242 - accuracy: 0.8477 - val_loss: 0.4927 - val_accuracy: 0.7803\n",
            "Epoch 139/180\n",
            "32/32 [==============================] - 4s 124ms/step - loss: 0.3131 - accuracy: 0.8477 - val_loss: 0.5844 - val_accuracy: 0.7818\n",
            "Epoch 140/180\n",
            "32/32 [==============================] - 4s 123ms/step - loss: 0.3134 - accuracy: 0.8437 - val_loss: 0.4423 - val_accuracy: 0.7742\n",
            "Epoch 141/180\n",
            "32/32 [==============================] - 4s 124ms/step - loss: 0.3278 - accuracy: 0.8346 - val_loss: 0.4624 - val_accuracy: 0.7500\n",
            "Epoch 142/180\n",
            "32/32 [==============================] - 4s 125ms/step - loss: 0.3358 - accuracy: 0.8351 - val_loss: 0.4263 - val_accuracy: 0.7864\n",
            "Epoch 143/180\n",
            "32/32 [==============================] - 4s 132ms/step - loss: 0.3242 - accuracy: 0.8386 - val_loss: 0.7606 - val_accuracy: 0.7470\n",
            "Epoch 144/180\n",
            "32/32 [==============================] - 4s 123ms/step - loss: 0.3598 - accuracy: 0.8199 - val_loss: 0.4643 - val_accuracy: 0.7788\n",
            "Epoch 145/180\n",
            "32/32 [==============================] - 4s 126ms/step - loss: 0.3076 - accuracy: 0.8513 - val_loss: 0.4281 - val_accuracy: 0.8061\n",
            "Epoch 146/180\n",
            "32/32 [==============================] - 4s 125ms/step - loss: 0.3266 - accuracy: 0.8351 - val_loss: 0.4229 - val_accuracy: 0.7924\n",
            "Epoch 147/180\n",
            "32/32 [==============================] - 4s 125ms/step - loss: 0.3015 - accuracy: 0.8548 - val_loss: 0.4286 - val_accuracy: 0.8061\n",
            "Epoch 148/180\n",
            "32/32 [==============================] - 4s 125ms/step - loss: 0.3645 - accuracy: 0.8240 - val_loss: 0.5250 - val_accuracy: 0.7409\n",
            "Epoch 149/180\n",
            "32/32 [==============================] - 4s 126ms/step - loss: 0.3807 - accuracy: 0.8204 - val_loss: 0.4885 - val_accuracy: 0.7833\n",
            "Epoch 150/180\n",
            "32/32 [==============================] - 4s 123ms/step - loss: 0.3550 - accuracy: 0.8306 - val_loss: 0.4280 - val_accuracy: 0.7803\n",
            "Epoch 151/180\n",
            "32/32 [==============================] - 4s 125ms/step - loss: 0.3362 - accuracy: 0.8341 - val_loss: 0.4924 - val_accuracy: 0.7682\n",
            "Epoch 152/180\n",
            "32/32 [==============================] - 4s 124ms/step - loss: 0.3343 - accuracy: 0.8412 - val_loss: 0.4238 - val_accuracy: 0.7985\n",
            "Epoch 153/180\n",
            "32/32 [==============================] - 4s 124ms/step - loss: 0.3034 - accuracy: 0.8548 - val_loss: 0.7468 - val_accuracy: 0.7394\n",
            "Epoch 154/180\n",
            "32/32 [==============================] - 4s 125ms/step - loss: 0.3174 - accuracy: 0.8397 - val_loss: 0.4012 - val_accuracy: 0.8015\n",
            "Epoch 155/180\n",
            "32/32 [==============================] - 4s 126ms/step - loss: 0.3494 - accuracy: 0.8280 - val_loss: 0.5314 - val_accuracy: 0.7788\n",
            "Epoch 156/180\n",
            "32/32 [==============================] - 4s 126ms/step - loss: 0.3128 - accuracy: 0.8462 - val_loss: 0.4676 - val_accuracy: 0.7909\n",
            "Epoch 157/180\n",
            "32/32 [==============================] - 4s 124ms/step - loss: 0.2981 - accuracy: 0.8553 - val_loss: 0.5067 - val_accuracy: 0.7803\n",
            "Epoch 158/180\n",
            "32/32 [==============================] - 4s 125ms/step - loss: 0.3008 - accuracy: 0.8523 - val_loss: 0.4665 - val_accuracy: 0.7924\n",
            "Epoch 159/180\n",
            "32/32 [==============================] - 4s 124ms/step - loss: 0.3350 - accuracy: 0.8356 - val_loss: 0.5953 - val_accuracy: 0.7000\n",
            "Epoch 160/180\n",
            "32/32 [==============================] - 4s 124ms/step - loss: 0.4173 - accuracy: 0.8007 - val_loss: 0.5211 - val_accuracy: 0.7591\n",
            "Epoch 161/180\n",
            "32/32 [==============================] - 4s 124ms/step - loss: 0.3795 - accuracy: 0.8199 - val_loss: 0.4162 - val_accuracy: 0.7955\n",
            "Epoch 162/180\n",
            "32/32 [==============================] - 4s 124ms/step - loss: 0.3164 - accuracy: 0.8462 - val_loss: 0.4157 - val_accuracy: 0.7667\n",
            "Epoch 163/180\n",
            "32/32 [==============================] - 4s 125ms/step - loss: 0.3106 - accuracy: 0.8437 - val_loss: 0.4127 - val_accuracy: 0.7985\n",
            "Epoch 164/180\n",
            "32/32 [==============================] - 4s 126ms/step - loss: 0.2993 - accuracy: 0.8528 - val_loss: 0.5178 - val_accuracy: 0.8015\n",
            "Epoch 165/180\n",
            "32/32 [==============================] - 4s 125ms/step - loss: 0.2981 - accuracy: 0.8553 - val_loss: 0.4375 - val_accuracy: 0.7682\n",
            "Epoch 166/180\n",
            "32/32 [==============================] - 4s 126ms/step - loss: 0.3180 - accuracy: 0.8477 - val_loss: 0.4736 - val_accuracy: 0.8000\n",
            "Epoch 167/180\n",
            "32/32 [==============================] - 4s 125ms/step - loss: 0.3259 - accuracy: 0.8467 - val_loss: 0.5993 - val_accuracy: 0.7864\n",
            "Epoch 168/180\n",
            "32/32 [==============================] - 4s 127ms/step - loss: 0.3012 - accuracy: 0.8584 - val_loss: 0.4588 - val_accuracy: 0.7955\n",
            "Epoch 169/180\n",
            "32/32 [==============================] - 4s 125ms/step - loss: 0.3314 - accuracy: 0.8422 - val_loss: 0.4111 - val_accuracy: 0.8061\n",
            "Epoch 170/180\n",
            "32/32 [==============================] - 4s 126ms/step - loss: 0.3187 - accuracy: 0.8407 - val_loss: 0.5227 - val_accuracy: 0.7924\n",
            "Epoch 171/180\n",
            "32/32 [==============================] - 4s 134ms/step - loss: 0.3010 - accuracy: 0.8508 - val_loss: 0.4672 - val_accuracy: 0.7879\n",
            "Epoch 172/180\n",
            "32/32 [==============================] - 4s 124ms/step - loss: 0.2855 - accuracy: 0.8574 - val_loss: 0.4384 - val_accuracy: 0.7970\n",
            "Epoch 173/180\n",
            "32/32 [==============================] - 4s 125ms/step - loss: 0.2952 - accuracy: 0.8553 - val_loss: 0.4735 - val_accuracy: 0.7970\n",
            "Epoch 174/180\n",
            "32/32 [==============================] - 4s 126ms/step - loss: 0.3052 - accuracy: 0.8528 - val_loss: 0.4915 - val_accuracy: 0.7848\n",
            "Epoch 175/180\n",
            "32/32 [==============================] - 4s 126ms/step - loss: 0.2800 - accuracy: 0.8680 - val_loss: 0.4913 - val_accuracy: 0.7970\n",
            "Epoch 176/180\n",
            "32/32 [==============================] - 4s 125ms/step - loss: 0.4081 - accuracy: 0.7982 - val_loss: 0.4901 - val_accuracy: 0.7697\n",
            "Epoch 177/180\n",
            "32/32 [==============================] - 4s 126ms/step - loss: 0.3532 - accuracy: 0.8331 - val_loss: 0.4883 - val_accuracy: 0.7773\n",
            "Epoch 178/180\n",
            "32/32 [==============================] - 4s 125ms/step - loss: 0.3523 - accuracy: 0.8295 - val_loss: 0.3954 - val_accuracy: 0.8091\n",
            "Epoch 179/180\n",
            "32/32 [==============================] - 4s 125ms/step - loss: 0.3136 - accuracy: 0.8533 - val_loss: 0.6494 - val_accuracy: 0.7348\n",
            "Epoch 180/180\n",
            "32/32 [==============================] - 4s 132ms/step - loss: 0.3570 - accuracy: 0.8235 - val_loss: 0.4281 - val_accuracy: 0.7924\n"
          ]
        }
      ]
    },
    {
      "cell_type": "code",
      "metadata": {
        "id": "xmlb8kfygNOI",
        "colab": {
          "base_uri": "https://localhost:8080/",
          "height": 282
        },
        "outputId": "6d6669bd-5a62-4f7b-eda6-463063f80310"
      },
      "source": [
        "#3.2 Show the curves of the training and test accuracies\n",
        "training_accs = history.history['accuracy']\n",
        "val_accs = history.history['val_accuracy']\n",
        "\n",
        "plt.plot(training_accs)\n",
        "plt.plot(val_accs)\n",
        "plt.legend(['training acc', 'validation acc'])"
      ],
      "id": "xmlb8kfygNOI",
      "execution_count": null,
      "outputs": [
        {
          "output_type": "execute_result",
          "data": {
            "text/plain": [
              "<matplotlib.legend.Legend at 0x7ff0f56e8f90>"
            ]
          },
          "metadata": {},
          "execution_count": 8
        },
        {
          "output_type": "display_data",
          "data": {
            "image/png": "[encoded data removed]",
            "text/plain": [
              "<Figure size 432x288 with 1 Axes>"
            ]
          },
          "metadata": {
            "needs_background": "light"
          }
        }
      ]
    },
    {
      "cell_type": "code",
      "metadata": {
        "id": "BX5lOXVTbT9y",
        "colab": {
          "base_uri": "https://localhost:8080/"
        },
        "outputId": "f2ff03ae-e61e-4225-a61d-b87b4ca2783f"
      },
      "source": [
        "#3.3 test the model\n",
        "y_train_pred_onehot = model.predict(X_train_1)\n",
        "y_train_pred = np.argmax(y_train_pred_onehot, axis =1)\n",
        "\n",
        "train_err = np.sum(y_train == y_train_pred)/y_train.shape[0]\n",
        "print('training acc is {}%'.format(np.round(train_err*100, 3)))\n",
        "\n",
        "y_test_pred_onehot= model.predict(X_test_1)\n",
        "y_test_pred = np.argmax(y_test_pred_onehot, axis =1)\n",
        "test_err = np.sum(y_test == y_test_pred)/y_test.shape[0]\n",
        "print('test acc is {}%'.format(np.round(test_err*100, 3)))"
      ],
      "id": "BX5lOXVTbT9y",
      "execution_count": null,
      "outputs": [
        {
          "output_type": "stream",
          "name": "stdout",
          "text": [
            "training acc is 85.21%\n",
            "test acc is 81.97%\n"
          ]
        }
      ]
    },
    {
      "cell_type": "code",
      "metadata": {
        "id": "77zQ1XyUjlNL",
        "colab": {
          "base_uri": "https://localhost:8080/",
          "height": 53
        },
        "outputId": "fc0ad8b3-4853-4af9-edfd-f89169960310"
      },
      "source": [
        "# 3.4 save the model\n",
        "import shutil\n",
        "\n",
        "model.save(\"/content/drive/MyDrive/Colab Notebooks/Best_Accuracy\")\n",
        "shutil.make_archive(\"/content/drive/MyDrive/Colab Notebooks/Best_Accuracy\", \"zip\", \"/content/drive/MyDrive/Colab Notebooks/Best_Accuracy\")"
      ],
      "id": "77zQ1XyUjlNL",
      "execution_count": null,
      "outputs": [
        {
          "output_type": "stream",
          "name": "stdout",
          "text": [
            "INFO:tensorflow:Assets written to: /content/drive/MyDrive/Colab Notebooks/Best_Accuracy/assets\n"
          ]
        },
        {
          "output_type": "execute_result",
          "data": {
            "application/vnd.google.colaboratory.intrinsic+json": {
              "type": "string"
            },
            "text/plain": [
              "'/content/drive/MyDrive/Colab Notebooks/Best_Accuracy.zip'"
            ]
          },
          "metadata": {},
          "execution_count": 11
        }
      ]
    }
  ]
}