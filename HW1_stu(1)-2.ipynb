{
 "cells": [
  {
   "cell_type": "markdown",
   "metadata": {},
   "source": [
    "### Homewoke 1: Sigmoid, Softmax, KL and cross-entropy\n",
    "\n",
    "Add your code to the following sections:\n",
    "\n",
    "```python\n",
    "    # (1) add your code here\n",
    "    #-----------------------\n",
    "\n",
    "    #---------------------------------\n",
    "```\n",
    "\n",
    "\n",
    "Grading details:\n",
    "1. sigm. 20 pts. \n",
    "Students can use both the math.exp and np.exp functions. Give 5 extra points to students who can solve the overflow warning.\n",
    "    \n",
    "2. dsigm. 20 pts\n",
    "\n",
    "3. show the sigm and dsigm curves. 10pts\n",
    "\n",
    "4. kl.  20 pts\n",
    "Student should consider zero values in p and/or q. If not, reduce 5 points.\n",
    "\n",
    "4. cross-entropy. 30 pts\n",
    "students should take care of zeros in q, e.g., using np.clip(). If not reduce 5 points.\n",
    "\n",
    "\n",
    "### Common issues:\n",
    "1. Overflow warning of the np.exp(-x) function\n",
    "2. Didn't deal with 0 in KL divergence\n",
    "3. Didn't deal with 0 in cross-entropy"
   ]
  },
  {
   "cell_type": "code",
   "execution_count": 2,
   "metadata": {},
   "outputs": [
    {
     "name": "stdout",
     "output_type": "stream",
     "text": [
      "sigmoid(0): 0.5\n",
      "sigmoid(10^(6)): 1.0\n",
      "sigmoid(-10^(6)): 0.0\n",
      "derivative of sigmoid(0): 0.25\n",
      "derivative of sigmoid(10^(6)): 0.0\n",
      "derivative of sigmoid(-10^(6)): 0.0\n"
     ]
    },
    {
     "data": {
      "image/png": "[encoded data removed]",
      "text/plain": [
       "<Figure size 432x288 with 1 Axes>"
      ]
     },
     "metadata": {
      "needs_background": "light"
     },
     "output_type": "display_data"
    }
   ],
   "source": [
    "import math\n",
    "import matplotlib.pyplot as plt\n",
    "import numpy as np\n",
    "import decimal\n",
    "\n",
    "def sigm(x):\n",
    "    \"\"\"The logistic sigmoid function\n",
    "    \n",
    "    Parameters\n",
    "    ----------\n",
    "    x: 1D numpy arrays\n",
    "    \"\"\"  \n",
    "    \n",
    "    # (1) add your code here \n",
    "    #sigm should be able to deal with scalars and vectors\n",
    "    #-----------------------\n",
    "    if x >= 0:\n",
    "        z = np.exp(-x)\n",
    "        value = 1 / (1 + z)\n",
    "        return (value)\n",
    "    else:\n",
    "        z = np.exp(x)\n",
    "        value = (z / (1 + z))\n",
    "        return value\n",
    "    \n",
    "def dsigm(x):\n",
    "    \"\"\"The derivative of the logistic sigmoid function\n",
    "    \n",
    "    Parameters\n",
    "    ----------\n",
    "    x: 1D numpy arrays   \n",
    "    \"\"\" \n",
    "    \n",
    "    # (2) add your code here\n",
    "    #dsigm should be able to deal with scalars and vectors\n",
    "    if x >= 0:\n",
    "        z = np.exp(-x)\n",
    "        value = 1 / (1 + z)\n",
    "        dvalue = value * (1 - value)\n",
    "        return (dvalue)\n",
    "    else:\n",
    "        z = np.exp(x)\n",
    "        value = (z / (1 + z))\n",
    "        dvalue = value * (1 - value)\n",
    "        return (dvalue)\n",
    "    #------------------------------\n",
    "    \n",
    "# (3) add your code here\n",
    "#show the curves of the sigm and dsigm functions using plt.plot() function\n",
    "# from -10 to 10\n",
    "#------------------------------\n",
    "\n",
    "print('sigmoid(0):', sigm(0))\n",
    "print('sigmoid(10^(6)):', sigm(1e6))\n",
    "print('sigmoid(-10^(6)):', sigm(-1e6))\n",
    "print('derivative of sigmoid(0):', dsigm(0))\n",
    "print('derivative of sigmoid(10^(6)):', dsigm(1e6))\n",
    "print('derivative of sigmoid(-10^(6)):', dsigm(-1e6))\n",
    "    \n",
    "#-----------------------    \n",
    "x = np.arange(-10,10,0.01)\n",
    "new_u = []\n",
    "new_du = []\n",
    "for i in x:\n",
    "    new_u.append((sigm(i)))\n",
    "    new_du.append(dsigm(i))\n",
    "    \n",
    "new_u = np.array(new_u)\n",
    "new_du = np.array(new_du)\n",
    "\n",
    "plt.grid()\n",
    "plt.plot(x, new_u, label ='Sigmoid Curve')\n",
    "plt.plot(x, new_du, label ='Digmoid Curve')\n",
    "plt.legend()\n",
    "plt.legend(loc='lower right')\n",
    "plt.grid(False)\n",
    "\n",
    "#------------------------------"
   ]
  },
  {
   "cell_type": "code",
   "execution_count": 4,
   "metadata": {},
   "outputs": [
    {
     "name": "stdout",
     "output_type": "stream",
     "text": [
      "0.04440300758688234 0.036690014034750584\n"
     ]
    }
   ],
   "source": [
    "# KL divergience\n",
    "def KL(p, q):\n",
    "    \n",
    "    \"\"\"KL divergence D(P || Q)\n",
    "    \n",
    "    Parameters\n",
    "    ----------\n",
    "    p, q : 1D numpy arrays of discrete probability distributions\n",
    "    \n",
    "    \"\"\"\n",
    "    \n",
    "    # (4) add your code here\n",
    "    # Avoid the division-by-zero problem\n",
    "    #-----------------------\n",
    "    sum = 0\n",
    "    \n",
    "    for i in range(len(p)):\n",
    "        if p[i] != 0:\n",
    "            value = (p[i]*np.log(p[i]/q[i]))\n",
    "        else:\n",
    "            value = 0\n",
    "        sum += value\n",
    "    return(sum)\n",
    "    #-----------------------\n",
    "\n",
    "# test code\n",
    "p = np.array([0.2, 0.8, 0])\n",
    "q = np.array([0.1, 0.9, 0])\n",
    "\n",
    "#print(KL(p, q), KL(q, p))\n",
    "print(KL(p,q), KL(q,p))\n",
    "#0.04440300758688234 0.036690014034750584"
   ]
  },
  {
   "cell_type": "code",
   "execution_count": 483,
   "metadata": {},
   "outputs": [
    {
     "name": "stdout",
     "output_type": "stream",
     "text": [
      "3.2973714911521426 3.245053352383427\n"
     ]
    }
   ],
   "source": [
    "# Cross-entropy\n",
    "\n",
    "def crossentropy(p, q):\n",
    "    \"\"\"The Cross-entropy H(P, Q)\n",
    "    \n",
    "    Parameters\n",
    "    ----------\n",
    "    p, q : 1D numpy arrays of discrete probability distributions\n",
    "    \n",
    "    \"\"\"  \n",
    "    # (4) add your code here\n",
    "    # students should take care of zeros in q \n",
    "    #-----------------------\n",
    "    cross_sum = 0\n",
    "    for i in range(len(p)):\n",
    "        if q[i] != 0:\n",
    "            cross_value = -(p[i]*np.log(q[i]))\n",
    "        else:\n",
    "            q[i] = np.clip(q[i], 0.000000000001,1)\n",
    "            cross_value = -(p[i]*np.log(q[i]))\n",
    "        cross_sum += cross_value\n",
    "    return(cross_sum)\n",
    "\n",
    "    #-----------------------\n",
    "    \n",
    "p = np.array([0.2, 0.7, 0.1, 0])\n",
    "q = np.array([0.1, 0.9, 0, 0.1])\n",
    "\n",
    "print(crossentropy(p, q), crossentropy(q, p))   \n",
    "#3.2973714911521426 3.2450533523811242"
   ]
  }
 ],
 "metadata": {
  "kernelspec": {
   "display_name": "Python 3",
   "language": "python",
   "name": "python3"
  },
  "language_info": {
   "codemirror_mode": {
    "name": "ipython",
    "version": 3
   },
   "file_extension": ".py",
   "mimetype": "text/x-python",
   "name": "python",
   "nbconvert_exporter": "python",
   "pygments_lexer": "ipython3",
   "version": "3.8.8"
  }
 },
 "nbformat": 4,
 "nbformat_minor": 2
}
